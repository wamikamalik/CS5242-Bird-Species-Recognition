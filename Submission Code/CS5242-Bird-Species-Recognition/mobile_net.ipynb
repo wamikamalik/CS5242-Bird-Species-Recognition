{
 "cells": [
  {
   "cell_type": "markdown",
   "metadata": {},
   "source": [
    "## Loading the Data"
   ]
  },
  {
   "cell_type": "code",
   "execution_count": null,
   "metadata": {
    "collapsed": true
   },
   "outputs": [],
   "source": [
    "import pandas as pd\n",
    "from torch.utils.data import DataLoader, Subset\n",
    "from torchvision.datasets import ImageFolder\n",
    "from torchvision.transforms import transforms\n",
    "from sklearn.model_selection import train_test_split\n",
    "import zipfile\n",
    "import os\n",
    "\n",
    "# Load the metadata\n",
    "metadata = pd.read_csv('meta_data.csv')\n",
    "\n",
    "# Create a dictionary mapping from image file name to is_training_image\n",
    "is_training_image = dict(zip(metadata.augmented_image_name, metadata.is_training_image))\n",
    "\n",
    "# Define the transformation\n",
    "transform = transforms.Compose([\n",
    "    transforms.Resize((224, 224)),\n",
    "    transforms.ToTensor(),\n",
    "])\n",
    "\n",
    "directory = \"../augmented_images\"\n",
    "\n",
    "# Check if the directory exists\n",
    "if os.path.isdir(directory):\n",
    "    print(\"Directory exists skipping zip extraction\")\n",
    "else:\n",
    "    print(\"Directory does not exist, extracting zip file...\")\n",
    "\n",
    "    # Specify the zip file name\n",
    "    zip_file = \"../augmented_images.zip\"\n",
    "\n",
    "    # Specify the directory to extract to\n",
    "    extract_dir = \"../\"\n",
    "\n",
    "    # Open the zip file in read mode\n",
    "    with zipfile.ZipFile(zip_file, 'r') as zip_ref:\n",
    "        # Extract all the contents of the zip file in the specified directory\n",
    "        zip_ref.extractall(extract_dir)\n",
    "\n",
    "print(\"Loading the dataset...\")\n",
    "# Load the dataset\n",
    "dataset = ImageFolder(directory, transform=transform)\n",
    "\n",
    "print(\"Splitting the dataset...\")\n",
    "# Split the dataset into training and testing sets\n",
    "train_indices = [i for i, (img, label) in enumerate(dataset.imgs) if is_training_image[os.path.normpath(img).replace('\\\\', '/').replace(\"../\", \"./\")]]\n",
    "test_indices = [i for i, (img, label) in enumerate(dataset.imgs) if not is_training_image[os.path.normpath(img).replace('\\\\', '/').replace(\"../\", \"./\")]]\n",
    "\n",
    "train_dataset = Subset(dataset, train_indices)\n",
    "test_dataset = Subset(dataset, test_indices)\n",
    "\n",
    "print(\"Creating the data loaders...\")\n",
    "# Create the data loaders\n",
    "train_loader = DataLoader(train_dataset, batch_size=32, shuffle=True)\n",
    "test_loader = DataLoader(test_dataset, batch_size=32, shuffle=False)"
   ]
  },
  {
   "cell_type": "code",
   "execution_count": null,
   "metadata": {},
   "outputs": [],
   "source": [
    "import matplotlib.pyplot as plt\n",
    "%matplotlib inline\n",
    "\n",
    "def show_example(img, label):\n",
    "    print('Label: ', dataset.classes[label], \"(\"+str(label)+\")\")\n",
    "    plt.imshow(img.permute(1, 2, 0))\n",
    "\n",
    "img, label = dataset[0]\n",
    "show_example(img, label)"
   ]
  },
  {
   "cell_type": "markdown",
   "metadata": {},
   "source": [
    "## Split Training Dataset into train and validation"
   ]
  },
  {
   "cell_type": "code",
   "execution_count": null,
   "metadata": {},
   "outputs": [],
   "source": [
    "from torch.utils.data import random_split\n",
    "\n",
    "# Define the size of the validation set\n",
    "val_size = int(0.2 * len(train_dataset))  # 20% for validation\n",
    "train_size = len(train_dataset) - val_size\n",
    "\n",
    "# Split the training dataset into training and validation sets\n",
    "train_dataset, val_dataset = random_split(train_dataset, [train_size, val_size])\n",
    "\n",
    "# Create the data loaders\n",
    "train_loader = DataLoader(train_dataset, batch_size=32, shuffle=True)\n",
    "val_loader = DataLoader(val_dataset, batch_size=32, shuffle=False)\n",
    "\n",
    "print(\"Training set size: \", len(train_dataset))\n",
    "print(\"Validation set size: \", len(val_dataset))"
   ]
  },
  {
   "cell_type": "code",
   "execution_count": null,
   "metadata": {},
   "outputs": [],
   "source": [
    "import torchvision.utils as vutils\n",
    "\n",
    "def show_batch(dl):\n",
    "    for images, labels in dl:\n",
    "        fig, ax = plt.subplots(figsize=(12, 6))\n",
    "        ax.set_xticks([]); ax.set_yticks([])\n",
    "        ax.imshow(vutils.make_grid(images, nrow=8).permute(1, 2, 0))\n",
    "        break\n",
    "show_batch(train_loader)"
   ]
  },
  {
   "cell_type": "markdown",
   "metadata": {},
   "source": [
    "## MobileNet Transfer Learning Model Creation"
   ]
  },
  {
   "cell_type": "code",
   "execution_count": null,
   "metadata": {},
   "outputs": [],
   "source": [
    "import torch\n",
    "from torch import nn\n",
    "from torchvision.models import mobilenet_v2\n",
    "import torch.nn.functional as F\n",
    "\n",
    "def accuracy(outputs, labels):\n",
    "    _, preds = torch.max(outputs, dim=1)\n",
    "    return torch.tensor(torch.sum(preds == labels).item() / len(preds))\n",
    "\n",
    "class BaseModel(nn.Module):\n",
    "    def __init__(self):\n",
    "        super(BaseModel, self).__init__()\n",
    "\n",
    "    def training_step(self, batch):\n",
    "        raise NotImplementedError\n",
    "\n",
    "    def validation_step(self, batch):\n",
    "        raise NotImplementedError\n",
    "\n",
    "    def epoch_end(self, epoch, result):\n",
    "        print(\"Epoch [{}], train_loss: {:.4f}, val_loss: {:.4f}\".format(\n",
    "            epoch, result['train_loss'], result['val_loss']))\n",
    "\n",
    "class MobileNetModel(BaseModel):\n",
    "    def __init__(self, num_classes):\n",
    "        super().__init__()\n",
    "        self.network = mobilenet_v2(pretrained=True)\n",
    "\n",
    "        # Freeze all the parameters of the model\n",
    "        for param in self.network.parameters():\n",
    "            param.requires_grad = False\n",
    "\n",
    "        # Unfreeze the last five layers\n",
    "        for param in list(self.network.parameters())[-5:]:\n",
    "            param.requires_grad = True\n",
    "\n",
    "        # Replace the classifier with a custom one\n",
    "        num_ftrs = self.network.classifier[1].in_features\n",
    "        self.network.classifier[1] = nn.Linear(num_ftrs, num_classes)\n",
    "\n",
    "    def forward(self, xb):\n",
    "        return self.network(xb)\n",
    "\n",
    "    def training_step(self, batch):\n",
    "        images, labels = batch \n",
    "        out = self(images)                  # Generate predictions\n",
    "        loss = F.cross_entropy(out, labels) # Calculate loss\n",
    "        return loss\n",
    "\n",
    "    def validation_step(self, batch):\n",
    "        images, labels = batch \n",
    "        out = self(images)                    # Generate predictions\n",
    "        loss = F.cross_entropy(out, labels)   # Calculate loss\n",
    "        acc = accuracy(out, labels)           # Calculate accuracy\n",
    "        return {'val_loss': loss.detach(), 'val_acc': acc}"
   ]
  },
  {
   "cell_type": "markdown",
   "metadata": {},
   "source": [
    "## Training the Model"
   ]
  },
  {
   "cell_type": "code",
   "execution_count": null,
   "metadata": {},
   "outputs": [],
   "source": [
    "import numpy as np\n",
    "\n",
    "device = torch.device(\"cuda\" if torch.cuda.is_available() else \"cpu\")\n",
    "num_classes = len(dataset.classes)\n",
    "model = MobileNetModel(num_classes).to(device)\n",
    "\n",
    "def fit(epochs, lr, train_loader, val_loader, optimizer):\n",
    "    history = {'train_loss': [], 'train_acc': [], 'val_loss': [], 'val_acc': []}\n",
    "    optimizer = optimizer(model.parameters(), lr)\n",
    "    for epoch in range(epochs):\n",
    "        # Training Phase \n",
    "        model.train()\n",
    "        train_losses = []\n",
    "        train_accs = []\n",
    "        print(\"Starting epoch \", epoch+1, \" of \", epochs)\n",
    "        for batch in train_loader:\n",
    "            inputs, labels = batch\n",
    "            inputs = inputs.to(device)\n",
    "            labels = labels.to(device)\n",
    "            # Compute predictions and losses\n",
    "            outputs = model(inputs)\n",
    "            loss = model.training_step(batch)\n",
    "            train_losses.append(loss.item())\n",
    "            # Compute accuracy\n",
    "            _, preds = torch.max(outputs, 1)\n",
    "            acc = torch.sum(preds == labels.data) / len(labels)\n",
    "            train_accs.append(acc.item())\n",
    "            # Backpropagation\n",
    "            optimizer.zero_grad()\n",
    "            loss.backward()\n",
    "            optimizer.step()\n",
    "        # Record training loss and accuracy\n",
    "        history['train_loss'].append(np.mean(train_losses))\n",
    "        history['train_acc'].append(np.mean(train_accs))\n",
    "\n",
    "        # Validation phase\n",
    "        model.eval()\n",
    "        val_losses = []\n",
    "        val_accs = []\n",
    "        with torch.no_grad():\n",
    "            for batch in val_loader:\n",
    "                inputs, labels = batch\n",
    "                inputs = inputs.to(device)\n",
    "                labels = labels.to(device)\n",
    "                # Compute predictions and losses\n",
    "                loss = model.validation_step(batch)['val_loss']\n",
    "                val_losses.append(loss.item())\n",
    "                # Compute accuracy\n",
    "                acc = model.validation_step(batch)['val_acc']\n",
    "                val_accs.append(acc.item())\n",
    "        # Record validation loss and accuracy\n",
    "        history['val_loss'].append(np.mean(val_losses))\n",
    "        history['val_acc'].append(np.mean(val_accs))\n",
    "        print(f'Epoch {epoch+1}/{epochs}, train loss: {np.mean(train_losses):.4f}, val loss: {np.mean(val_losses):.4f}, train acc: {np.mean(train_accs):.4f}, val acc: {np.mean(val_accs):.4f}')\n",
    "    return history"
   ]
  },
  {
   "cell_type": "code",
   "execution_count": null,
   "metadata": {},
   "outputs": [],
   "source": [
    "num_epochs = 10\n",
    "opt_func = torch.optim.Adam\n",
    "lr = 0.001\n",
    "\n",
    "history = fit(num_epochs, lr, train_loader, val_loader, opt_func)"
   ]
  },
  {
   "cell_type": "code",
   "execution_count": null,
   "metadata": {},
   "outputs": [],
   "source": [
    "import matplotlib.pyplot as plt\n",
    "\n",
    "def plot_history(history):\n",
    "    fig, (ax1, ax2) = plt.subplots(2, 1, figsize=(12, 8))\n",
    "\n",
    "    ax1.plot(history['train_loss'], label='train loss')\n",
    "    ax1.plot(history['val_loss'], label='validation loss')\n",
    "    ax1.set_xlabel('Epochs')\n",
    "    ax1.set_ylabel('Loss')\n",
    "    ax1.legend()\n",
    "\n",
    "    ax2.plot(history['train_acc'], label='train accuracy')\n",
    "    ax2.plot(history['val_acc'], label='validation accuracy')\n",
    "    ax2.set_xlabel('Epochs')\n",
    "    ax2.set_ylabel('Accuracy')\n",
    "    ax2.legend()\n",
    "\n",
    "    plt.tight_layout()\n",
    "    plt.show()\n",
    "\n",
    "plot_history(history)"
   ]
  },
  {
   "cell_type": "markdown",
   "metadata": {},
   "source": [
    "## Test the Model"
   ]
  },
  {
   "cell_type": "code",
   "execution_count": null,
   "metadata": {},
   "outputs": [],
   "source": [
    "def test_model(model, test_loader, device):\n",
    "    model.eval()\n",
    "    correct = 0\n",
    "    total = 0\n",
    "    with torch.no_grad():\n",
    "        for images, labels in test_loader:\n",
    "            images = images.to(device)\n",
    "            labels = labels.to(device)\n",
    "            outputs = model(images)\n",
    "            _, predicted = torch.max(outputs.data, 1)\n",
    "            total += labels.size(0)\n",
    "            correct += (predicted == labels).sum().item()\n",
    "    print('Test Accuracy of the model on the test images: {} %'.format(100 * correct / total))\n",
    "\n",
    "test_model(model, test_loader, device)"
   ]
  },
  {
   "cell_type": "markdown",
   "metadata": {},
   "source": [
    "## Save the Model"
   ]
  },
  {
   "cell_type": "code",
   "execution_count": null,
   "metadata": {},
   "outputs": [],
   "source": [
    "# Save the trained model\n",
    "torch.save(model, 'mobilenet.pth')"
   ]
  }
 ],
 "metadata": {
  "kernelspec": {
   "display_name": "Python 3",
   "language": "python",
   "name": "python3"
  },
  "language_info": {
   "codemirror_mode": {
    "name": "ipython",
    "version": 3
   },
   "file_extension": ".py",
   "mimetype": "text/x-python",
   "name": "python",
   "nbconvert_exporter": "python",
   "pygments_lexer": "ipython3",
   "version": "3.9.13"
  }
 },
 "nbformat": 4,
 "nbformat_minor": 0
}
